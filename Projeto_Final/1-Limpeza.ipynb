{
 "cells": [
  {
   "cell_type": "markdown",
   "metadata": {
    "colab_type": "text",
    "id": "pT4eQ0sTeQ5S"
   },
   "source": [
    "# Projeto AceleraDev Data Science (Junho de 2020)\n",
    "<sub>\n",
    "    Feito por Vini Antunes\n",
    "</sub>\n",
    "<br>\n",
    "<ul>\n",
    "    <li><a href=\"https://www.linkedin.com/in/vini-antunes/\"> LinkedIn </a></li>\n",
    "    <li><a href=\"https://github.com/ViniViniAntunes\"> Github </a></li>\n",
    "    <li><a href=\"vini.antunes2705@gmail.com\"> Email </a></li>\n",
    "</ul>\n"
   ]
  },
  {
   "cell_type": "markdown",
   "metadata": {
    "colab_type": "text",
    "id": "2iNNZbggeQ5U"
   },
   "source": [
    "# Objetivo\n",
    "<p>\n",
    "    O objetivo deste produto é fornecer um serviço automatizado que recomenda leads para um usuário dado sua atual lista de clientes (Portfólio).\n",
    "</p>\n",
    "\n",
    "# Contextualização\n",
    "<p>\n",
    "    Algumas empresas gostariam de saber quem são as demais empresas em um determinado mercado (população) que tem maior probabilidade se tornarem seus próximos clientes. Ou seja, a sua solução deve encontrar no mercado quem são os leads mais aderentes dado as características dos clientes presentes no portfólio do usuário.\n",
    "</p>\n",
    "\n",
    "<p>\n",
    "    Além disso, sua solução deve ser agnóstica ao usuário. Qualquer usuário com uma lista de clientes que queira explorar esse mercado pode extrair valor do serviço.\n",
    "</p>\n",
    "\n",
    "### __Para o desafio, deverão ser consideradas as seguintes bases:__\n",
    "<ul>\n",
    "    <li> Mercado: Base com informações sobre as empresas do Mercado a ser considerado. </li>\n",
    "    <li> Portfolio 1: Ids dos clientes da empresa 1 </li>\n",
    "    <li> Portfolio 2: Ids dos clientes da empresa 2 </li>\n",
    "    <li> Portfolio 3: Ids dos clientes da empresa 3 </li>\n",
    "</ul>\n",
    "\n",
    "**Obs: todas as empresas(ids) dos portfolios estão contidos no Mercado(base de população).**\n",
    "\n",
    "<p>\n",
    "    Link para download das bases Mercado, Portfolio 1, Portfolio 2 e Portfolio 3 respectivamente:\n",
    "    <ul>\n",
    "        <li><a href=\"https://codenation-challenges.s3-us-west-1.amazonaws.com/ml-leads/estaticos_market.csv.zip\"> estaticos_market.csv.zip </a></li>\n",
    "        <li><a href=\"https://codenation-challenges.s3-us-west-1.amazonaws.com/ml-leads/estaticos_portfolio1.csv\"> estaticos_portfolio1.csv </a></li>\n",
    "        <li><a href=\"https://codenation-challenges.s3-us-west-1.amazonaws.com/ml-leads/estaticos_portfolio2.csv\"> estaticos_portfolio2.csv </a></li>\n",
    "        <li><a href=\"https://codenation-challenges.s3-us-west-1.amazonaws.com/ml-leads/estaticos_portfolio3.csv\"> estaticos_portfolio3.csv </a></li>\n",
    "    </ul>\n",
    "</p>\n",
    "\n",
    "<p>\n",
    "    As bases de portfólio poderão ser utilizadas para testar a aderência da solução. Além disso, se a equipe desejar, poderá simular portfólios por meio de amostragens no mercado.\n",
    "</p>\n",
    "\n",
    "# Descrição de variáveis\n",
    "\n",
    "**Requisitos técnicos obrigatórios**\n",
    "<p>\n",
    "    <ul>\n",
    "        <li> Utilizar técnicas de data science e machine learning para desenvolver o projeto;</li>\n",
    "        <li> Apresentar o desenvolvimento e outputs do modelo em um Jupyter Notebook ou outra tecnologia de apresentação de Output de modelos de Machine Learning; </li>\n",
    "        <li> A análise deve considerar os seguintes pontos: análise exploratória dos dados, tratamento dos dados, avaliação de algoritmos, treinamento do modelo, avaliação de performance do modelo e visualização dos resultados; </li>\n",
    "        <li> Para a apresentação do projeto, o tempo entre o treinamento do modelo e o output deve ser menor que 20 min. </li>\n",
    "    </ul>\n",
    "</p>"
   ]
  },
  {
   "cell_type": "markdown",
   "metadata": {
    "colab_type": "text",
    "id": "1IqufZCYeQ5U"
   },
   "source": [
    "# Análise exploratória dos dados"
   ]
  },
  {
   "cell_type": "code",
   "execution_count": 1,
   "metadata": {
    "colab": {
     "base_uri": "https://localhost:8080/",
     "height": 70
    },
    "colab_type": "code",
    "id": "adPW2xqxeQ5V",
    "outputId": "0d85291c-3a8f-49b4-95ef-d4c3bc9e69ae"
   },
   "outputs": [],
   "source": [
    "# Importando as bibliotecas necessárias\n",
    "import pandas as pd\n",
    "import numpy as np"
   ]
  },
  {
   "cell_type": "code",
   "execution_count": 2,
   "metadata": {
    "colab": {},
    "colab_type": "code",
    "id": "qwfZLVAleQ5Z",
    "scrolled": false
   },
   "outputs": [],
   "source": [
    "#Baixando os arquivos csv\n",
    "market = pd.read_csv('data\\\\estaticos_market.csv')\n",
    "portifolio1 = pd.read_csv('data\\\\estaticos_portfolio1.csv')\n",
    "portifolio2 = pd.read_csv('data\\\\estaticos_portfolio2.csv')\n",
    "portifolio3 = pd.read_csv('data\\\\estaticos_portfolio3.csv')"
   ]
  },
  {
   "cell_type": "code",
   "execution_count": 3,
   "metadata": {},
   "outputs": [],
   "source": [
    "portifolio1.drop('Unnamed: 0', axis=1, inplace=True)\n",
    "portifolio2.drop('Unnamed: 0', axis=1, inplace=True)\n",
    "portifolio3.drop('Unnamed: 0', axis=1, inplace=True)\n",
    "market.drop('Unnamed: 0', axis=1, inplace=True)"
   ]
  },
  {
   "cell_type": "code",
   "execution_count": 4,
   "metadata": {
    "colab": {
     "base_uri": "https://localhost:8080/",
     "height": 34
    },
    "colab_type": "code",
    "id": "ceATl17BeQ5c",
    "outputId": "dc710d03-04b8-4707-8d3b-e378692673ae"
   },
   "outputs": [
    {
     "data": {
      "text/plain": [
       "(462298, 181)"
      ]
     },
     "execution_count": 4,
     "metadata": {},
     "output_type": "execute_result"
    }
   ],
   "source": [
    "# Mostrando o tamanho do dataset market\n",
    "market.shape"
   ]
  },
  {
   "cell_type": "markdown",
   "metadata": {
    "colab_type": "text",
    "id": "6JgLofELEpCE"
   },
   "source": [
    "**Como o dataset <code>market</code> é muito grande, vamos fazer essa limpeza primeiramente no dataset <code>portifolio1</code> que contém as mesmas colunas e depois faremos dataset de interesse**"
   ]
  },
  {
   "cell_type": "code",
   "execution_count": 5,
   "metadata": {
    "colab": {
     "base_uri": "https://localhost:8080/",
     "height": 34
    },
    "colab_type": "code",
    "id": "c2v2JZcD7fXh",
    "outputId": "4961400e-43cc-4b34-a1d2-c22780a64678"
   },
   "outputs": [
    {
     "data": {
      "text/plain": [
       "(555, 181)"
      ]
     },
     "execution_count": 5,
     "metadata": {},
     "output_type": "execute_result"
    }
   ],
   "source": [
    "# Mostrando o tamanho do dataset portifolio1 antes da limpeza\n",
    "portifolio1.shape"
   ]
  },
  {
   "cell_type": "markdown",
   "metadata": {
    "colab_type": "text",
    "id": "vHgsozZgeQ5u"
   },
   "source": [
    "# Tratamento dos dados"
   ]
  },
  {
   "cell_type": "markdown",
   "metadata": {
    "colab_type": "text",
    "id": "EG53I9__F1Nc"
   },
   "source": [
    "# Parte 1 - Retirando o excesso"
   ]
  },
  {
   "cell_type": "markdown",
   "metadata": {
    "colab_type": "text",
    "id": "YTSLwRh1ItOK"
   },
   "source": [
    "**Para começar, vamos retirar as variáveis que contém valores únicos. Pois acreditamos que sem variabilidade nos dados de determinada variável, não será possível diferenciar as entradas com isso.**"
   ]
  },
  {
   "cell_type": "markdown",
   "metadata": {
    "colab_type": "text",
    "id": "E5Rs0Z33EQXG"
   },
   "source": [
    "## Retirando as colunas com valores únicos"
   ]
  },
  {
   "cell_type": "code",
   "execution_count": 6,
   "metadata": {
    "colab": {},
    "colab_type": "code",
    "id": "vnIKrZaYeQ5f"
   },
   "outputs": [],
   "source": [
    "#Definindo uma função que retira as colunas com valores únicos\n",
    "def retira_colunas_de_valores_unicos(df):\n",
    "\n",
    "    # Laço para iterar em todos as colunas\n",
    "    for coluna in df.columns:\n",
    "\n",
    "        # Selecionando as colunas de interesse\n",
    "        if df[coluna].nunique() <= 1:\n",
    "\n",
    "            # Retirando as colunas selecionadas\n",
    "            df.drop(coluna, axis=1, inplace=True)\n",
    "    \n",
    "    # Retornando um DataFrame sem colunas com valores únicos\n",
    "    return df"
   ]
  },
  {
   "cell_type": "code",
   "execution_count": 7,
   "metadata": {
    "colab": {
     "base_uri": "https://localhost:8080/",
     "height": 34
    },
    "colab_type": "code",
    "id": "tF1fe0oMfrF0",
    "outputId": "9f5efa79-660b-403a-e058-c63872062262"
   },
   "outputs": [
    {
     "data": {
      "text/plain": [
       "(555, 143)"
      ]
     },
     "execution_count": 7,
     "metadata": {},
     "output_type": "execute_result"
    }
   ],
   "source": [
    "# Aplicando a função recém criada no dataset portifolio1 e \n",
    "#   armazenando o seu retorno na própria variável\n",
    "portifolio1 = retira_colunas_de_valores_unicos(portifolio1)\n",
    "\n",
    "# Mostrando o tamanho do dataset portifolio1 depois de retiras os valores únicos\n",
    "portifolio1.shape"
   ]
  },
  {
   "cell_type": "markdown",
   "metadata": {
    "colab_type": "text",
    "id": "ZP_TMhznLvl4"
   },
   "source": [
    "**Agora, nas colunas do tipo \"boolean\", vamos trocar <code>False</code> e <code>True</code> por <code>0</code> e <code>1</code> respectivamente.**"
   ]
  },
  {
   "cell_type": "markdown",
   "metadata": {
    "colab_type": "text",
    "id": "WYhudiqnEJTE"
   },
   "source": [
    "## Trocando bool para 0 e 1"
   ]
  },
  {
   "cell_type": "code",
   "execution_count": 8,
   "metadata": {
    "colab": {
     "base_uri": "https://localhost:8080/",
     "height": 168
    },
    "colab_type": "code",
    "id": "n1QNsJJ4DdnL",
    "outputId": "2e16b79d-2f44-4610-92d7-9e4a75e1aee6"
   },
   "outputs": [
    {
     "data": {
      "text/plain": [
       "['fl_matriz',\n",
       " 'fl_me',\n",
       " 'fl_sa',\n",
       " 'fl_mei',\n",
       " 'fl_email',\n",
       " 'fl_telefone',\n",
       " 'fl_antt',\n",
       " 'fl_veiculo',\n",
       " 'fl_passivel_iss']"
      ]
     },
     "execution_count": 8,
     "metadata": {},
     "output_type": "execute_result"
    }
   ],
   "source": [
    "# Mostrando as colunas com valores do tipo \"boolean\" antes da troca\n",
    "[coluna for coluna in portifolio1.dtypes[portifolio1.dtypes == 'bool'].index]"
   ]
  },
  {
   "cell_type": "code",
   "execution_count": 9,
   "metadata": {
    "colab": {},
    "colab_type": "code",
    "id": "K2UMcbB6Da3h"
   },
   "outputs": [],
   "source": [
    "# Definindo uma função que troca \"bool\" para \"int\"\n",
    "def troca_bool_para_numero(df):\n",
    "\n",
    "    # Selecionando as colunas de interesse\n",
    "    colunas_bool = [coluna for coluna in df.dtypes[df.dtypes == 'bool'].index]\n",
    "    \n",
    "    # Laço para iterar em todas as colunas de interesse\n",
    "    for coluna in colunas_bool:\n",
    "\n",
    "        # Realizando a troca\n",
    "        df[coluna] = [1 if valor == True else 0 for valor in df[coluna]]\n",
    "    \n",
    "    # Retornando um DataFrame com \"int\" no lugar de \"bool\"\n",
    "    return df"
   ]
  },
  {
   "cell_type": "code",
   "execution_count": 10,
   "metadata": {
    "colab": {
     "base_uri": "https://localhost:8080/",
     "height": 34
    },
    "colab_type": "code",
    "id": "Javi8wwQD_Q5",
    "outputId": "d34941d8-2590-4971-8f1e-ecf9b863ef59"
   },
   "outputs": [
    {
     "data": {
      "text/plain": [
       "[]"
      ]
     },
     "execution_count": 10,
     "metadata": {},
     "output_type": "execute_result"
    }
   ],
   "source": [
    "# Aplicando a função recém criada no dataset portifolio1 e \n",
    "#   armazenando o seu retorno na própria variável\n",
    "portifolio1 = troca_bool_para_numero(portifolio1)\n",
    "\n",
    "# Mostrando as colunas com valores do tipo \"boolean\" depois da troca\n",
    "[coluna for coluna in portifolio1.dtypes[portifolio1.dtypes == 'bool'].index]"
   ]
  },
  {
   "cell_type": "markdown",
   "metadata": {
    "colab_type": "text",
    "id": "goYGeW6wEY8i"
   },
   "source": [
    "**Com isso feito, vamos trocar as variáveis do tipo <code>int64</code> e <code>float64</code> para <code>int32</code> e <code>float32</code> respectivamente. Com isso vamos reduzir um pouco a memória utilizada ao rodar os nossos modelos sem perda de precisão significativa para o nosso objetivo.**"
   ]
  },
  {
   "cell_type": "markdown",
   "metadata": {
    "colab_type": "text",
    "id": "Kvuxul-ZQ-ff"
   },
   "source": [
    "## Trocando de 64 para 32"
   ]
  },
  {
   "cell_type": "code",
   "execution_count": 11,
   "metadata": {
    "colab": {},
    "colab_type": "code",
    "id": "g3ja-C4SfrDb"
   },
   "outputs": [],
   "source": [
    "# Definindo uma função para trocar para um tipo de variável que usa menos memória\n",
    "def reduz_memoria(df):\n",
    "\n",
    "    # Criando duas listas para armazenar as colunas que selecionaremos\n",
    "    colunas_int = []\n",
    "    colunas_float = []\n",
    "\n",
    "    # Laço para iterar em todas as colunas com dados do tipo \"int64\" e \"float64\"\n",
    "    for coluna, tipo in enumerate(df.dtypes):\n",
    "\n",
    "        # Selecionando as colunas com dados do tipo \"int64\"\n",
    "        if tipo == 'int64':\n",
    "\n",
    "            # Amazenando os nomes das colunas do tipo \"int64\"\n",
    "            colunas_int.append(df.dtypes.index[coluna])\n",
    "\n",
    "            # Realizando a troca para \"int16\"\n",
    "            df[colunas_int] = df[colunas_int].astype(np.int16)\n",
    "        \n",
    "        # Selecionando as colunas com dados do tipo \"int64\"\n",
    "        elif tipo == 'float64':\n",
    "\n",
    "            # Amazenando os nomes das colunas do tipo \"float64\"\n",
    "            colunas_float.append(df.dtypes.index[coluna])\n",
    "\n",
    "            # Realizando a troca para \"float32\"\n",
    "            df[colunas_float] = df[colunas_float].astype('float32')\n",
    "    \n",
    "    # Retornando um DataFrame com \"uint8\" e \"float32\"\n",
    "    return df"
   ]
  },
  {
   "cell_type": "code",
   "execution_count": 12,
   "metadata": {
    "colab": {
     "base_uri": "https://localhost:8080/",
     "height": 252
    },
    "colab_type": "code",
    "id": "cgFg8w0AcrPO",
    "outputId": "79d3bb00-4d8a-44ba-b89f-cce778ce5e13"
   },
   "outputs": [
    {
     "data": {
      "text/plain": [
       "fl_matriz                          int64\n",
       "fl_me                              int64\n",
       "fl_sa                              int64\n",
       "fl_mei                             int64\n",
       "fl_email                           int64\n",
       "fl_telefone                        int64\n",
       "fl_antt                            int64\n",
       "fl_veiculo                         int64\n",
       "vl_total_veiculos_pesados_grupo    int64\n",
       "vl_total_veiculos_leves_grupo      int64\n",
       "fl_passivel_iss                    int64\n",
       "qt_filiais                         int64\n",
       "dtype: object"
      ]
     },
     "execution_count": 12,
     "metadata": {},
     "output_type": "execute_result"
    }
   ],
   "source": [
    "# Mostrando as colunas com valores do tipo \"int64\" antes da troca\n",
    "portifolio1.dtypes[portifolio1.dtypes=='int64']"
   ]
  },
  {
   "cell_type": "code",
   "execution_count": 13,
   "metadata": {
    "colab": {
     "base_uri": "https://localhost:8080/",
     "height": 218
    },
    "colab_type": "code",
    "id": "PihnCMptcjl8",
    "outputId": "b2cf377a-f745-4609-8a0a-ec08a59a27a0"
   },
   "outputs": [
    {
     "data": {
      "text/plain": [
       "idade_empresa_anos           float64\n",
       "vl_total_veiculos_leves      float64\n",
       "vl_total_veiculos_pesados    float64\n",
       "qt_art                       float64\n",
       "vl_potenc_cons_oleo_gas      float64\n",
       "                              ...   \n",
       "qt_funcionarios_12meses      float64\n",
       "qt_funcionarios_24meses      float64\n",
       "tx_crescimento_12meses       float64\n",
       "tx_crescimento_24meses       float64\n",
       "tx_rotatividade              float64\n",
       "Length: 110, dtype: object"
      ]
     },
     "execution_count": 13,
     "metadata": {},
     "output_type": "execute_result"
    }
   ],
   "source": [
    "# Mostrando as colunas com valores do tipo \"float64\" antes da troca\n",
    "portifolio1.dtypes[portifolio1.dtypes=='float64']"
   ]
  },
  {
   "cell_type": "code",
   "execution_count": 14,
   "metadata": {
    "colab": {},
    "colab_type": "code",
    "id": "Dpb8o73SdOWl"
   },
   "outputs": [],
   "source": [
    "# Aplicando a função recém criada no dataset portifolio1 e \n",
    "#   armazenando o seu retorno na própria variável\n",
    "portifolio1 = reduz_memoria(portifolio1)"
   ]
  },
  {
   "cell_type": "code",
   "execution_count": 15,
   "metadata": {
    "colab": {
     "base_uri": "https://localhost:8080/",
     "height": 34
    },
    "colab_type": "code",
    "id": "EnPVUc8N7fUq",
    "outputId": "36eba9cd-b4c1-45b8-ca46-9e3e907056ff"
   },
   "outputs": [
    {
     "data": {
      "text/plain": [
       "Series([], dtype: object)"
      ]
     },
     "execution_count": 15,
     "metadata": {},
     "output_type": "execute_result"
    }
   ],
   "source": [
    "# Mostrando as colunas com valores do tipo \"int64\" depois da troca\n",
    "portifolio1.dtypes[portifolio1.dtypes == 'int64']"
   ]
  },
  {
   "cell_type": "code",
   "execution_count": 16,
   "metadata": {
    "colab": {
     "base_uri": "https://localhost:8080/",
     "height": 34
    },
    "colab_type": "code",
    "id": "r_a9wmL_7fTA",
    "outputId": "20ee0140-f6a3-430c-8a6c-bdbcd61afed2"
   },
   "outputs": [
    {
     "data": {
      "text/plain": [
       "Series([], dtype: object)"
      ]
     },
     "execution_count": 16,
     "metadata": {},
     "output_type": "execute_result"
    }
   ],
   "source": [
    "# Mostrando as colunas com valores do tipo \"float64\" depois da troca\n",
    "portifolio1.dtypes[portifolio1.dtypes=='float64']"
   ]
  },
  {
   "cell_type": "markdown",
   "metadata": {
    "colab_type": "text",
    "id": "NTh4083Xcx0k"
   },
   "source": [
    "**Estamos quase lá. Só falta retirarmos as colunas com um número muito elevado de valores nulos.**"
   ]
  },
  {
   "cell_type": "markdown",
   "metadata": {
    "colab_type": "text",
    "id": "fJvwxr6xvQuV"
   },
   "source": [
    "## Retirando as variáveis com um número elevado de valores nulos"
   ]
  },
  {
   "cell_type": "code",
   "execution_count": 17,
   "metadata": {
    "colab": {
     "base_uri": "https://localhost:8080/",
     "height": 34
    },
    "colab_type": "code",
    "id": "WkQRwsOHdzLq",
    "outputId": "527b8eb1-a39c-4dc2-9d20-8667cd1b6dd6"
   },
   "outputs": [
    {
     "data": {
      "text/plain": [
       "98"
      ]
     },
     "execution_count": 17,
     "metadata": {},
     "output_type": "execute_result"
    }
   ],
   "source": [
    "# Definindo a porcentagem de valores nulos de uma variável\n",
    "porcent_nulos = 0.5\n",
    "\n",
    "# Mostrando quantas colunas têm a porcentagem estipulada de valores nulos (ou mais) antes da retirada\n",
    "len(portifolio1.isna().sum()[portifolio1.isna().sum() >= porcent_nulos * len(portifolio1)])"
   ]
  },
  {
   "cell_type": "code",
   "execution_count": 18,
   "metadata": {
    "colab": {},
    "colab_type": "code",
    "id": "M1xxmA57eQ5v"
   },
   "outputs": [],
   "source": [
    "# Definindo uma função que elimina as colunas com um determinado \n",
    "#   percentual de valores nulos\n",
    "def retira_colunas_com_porcent_nulos(df, porcent_nulos):\n",
    "    colunas_com_muitos_nulos = [coluna for coluna in df.isna().sum()[df.isna().sum() >= porcent_nulos * len(df)].index]\n",
    "    df.drop(colunas_com_muitos_nulos, axis=1, inplace=True)\n",
    "    return df"
   ]
  },
  {
   "cell_type": "code",
   "execution_count": 19,
   "metadata": {
    "colab": {},
    "colab_type": "code",
    "id": "br9wt3M2eQ5x"
   },
   "outputs": [],
   "source": [
    "# Aplicando a função recém criada no dataset portifolio1 e \n",
    "#   armazenando o seu retorno na própria variável\n",
    "portifolio1 = retira_colunas_com_porcent_nulos(portifolio1, porcent_nulos)"
   ]
  },
  {
   "cell_type": "code",
   "execution_count": 20,
   "metadata": {
    "colab": {
     "base_uri": "https://localhost:8080/",
     "height": 34
    },
    "colab_type": "code",
    "id": "Xyos-VmIdzJN",
    "outputId": "686355cc-0843-49c2-918e-219d60bbc513"
   },
   "outputs": [
    {
     "data": {
      "text/plain": [
       "0"
      ]
     },
     "execution_count": 20,
     "metadata": {},
     "output_type": "execute_result"
    }
   ],
   "source": [
    "# Mostrando quantas colunas têm a porcentagem estipulada de valores nulos (ou mais) depois da retirada\n",
    "len(portifolio1.isna().sum()[portifolio1.isna().sum() >= porcent_nulos * len(portifolio1)])"
   ]
  },
  {
   "cell_type": "markdown",
   "metadata": {
    "colab_type": "text",
    "id": "92wgFd3YjGys"
   },
   "source": [
    "**Com isso, o número de features foi reduzido.**"
   ]
  },
  {
   "cell_type": "code",
   "execution_count": 21,
   "metadata": {
    "colab": {
     "base_uri": "https://localhost:8080/",
     "height": 34
    },
    "colab_type": "code",
    "id": "OBvJBttTeQ5z",
    "outputId": "126367d7-e5b0-45be-ed87-18b74a4cfc05"
   },
   "outputs": [
    {
     "data": {
      "text/plain": [
       "(555, 45)"
      ]
     },
     "execution_count": 21,
     "metadata": {},
     "output_type": "execute_result"
    }
   ],
   "source": [
    "# Mostrando o tamanho do dataset depois do tratamento\n",
    "portifolio1.shape"
   ]
  },
  {
   "cell_type": "markdown",
   "metadata": {
    "colab_type": "text",
    "id": "yYGX5OWUjdk-"
   },
   "source": [
    "**E as colunas restantes são as mostradas a seguir.**"
   ]
  },
  {
   "cell_type": "code",
   "execution_count": 22,
   "metadata": {
    "colab": {
     "base_uri": "https://localhost:8080/",
     "height": 790
    },
    "colab_type": "code",
    "id": "3ZDhHrHTeQ51",
    "outputId": "56899f82-c621-4c90-9f77-3a5940c47492"
   },
   "outputs": [
    {
     "data": {
      "text/plain": [
       "['id',\n",
       " 'fl_matriz',\n",
       " 'de_natureza_juridica',\n",
       " 'sg_uf',\n",
       " 'natureza_juridica_macro',\n",
       " 'de_ramo',\n",
       " 'setor',\n",
       " 'idade_empresa_anos',\n",
       " 'idade_emp_cat',\n",
       " 'fl_me',\n",
       " 'fl_sa',\n",
       " 'fl_mei',\n",
       " 'dt_situacao',\n",
       " 'fl_email',\n",
       " 'fl_telefone',\n",
       " 'fl_rm',\n",
       " 'nm_divisao',\n",
       " 'nm_segmento',\n",
       " 'fl_antt',\n",
       " 'fl_veiculo',\n",
       " 'fl_optante_simples',\n",
       " 'vl_total_veiculos_pesados_grupo',\n",
       " 'vl_total_veiculos_leves_grupo',\n",
       " 'fl_optante_simei',\n",
       " 'sg_uf_matriz',\n",
       " 'de_saude_tributaria',\n",
       " 'de_saude_rescencia',\n",
       " 'nu_meses_rescencia',\n",
       " 'de_nivel_atividade',\n",
       " 'empsetorcensitariofaixarendapopulacao',\n",
       " 'nm_meso_regiao',\n",
       " 'nm_micro_regiao',\n",
       " 'fl_passivel_iss',\n",
       " 'qt_socios',\n",
       " 'qt_socios_pf',\n",
       " 'qt_socios_pj',\n",
       " 'idade_media_socios',\n",
       " 'idade_maxima_socios',\n",
       " 'idade_minima_socios',\n",
       " 'qt_socios_st_regular',\n",
       " 'de_faixa_faturamento_estimado',\n",
       " 'de_faixa_faturamento_estimado_grupo',\n",
       " 'vl_faturamento_estimado_aux',\n",
       " 'vl_faturamento_estimado_grupo_aux',\n",
       " 'qt_filiais']"
      ]
     },
     "execution_count": 22,
     "metadata": {},
     "output_type": "execute_result"
    }
   ],
   "source": [
    "# Mostrando os nomes das colunas restantes\n",
    "[coluna for coluna in portifolio1.columns]"
   ]
  },
  {
   "cell_type": "markdown",
   "metadata": {
    "colab_type": "text",
    "id": "sQ6PWOJriUlZ"
   },
   "source": [
    "**Com esse tratamento, conseguimos eliminar boa parte das colunas que julgamos ser desnecessárias e podemos agora fazer o mesmo com o dataset <code>market</code> para tentar reduzí-lo.**"
   ]
  },
  {
   "cell_type": "code",
   "execution_count": 23,
   "metadata": {
    "colab": {},
    "colab_type": "code",
    "id": "6SgaKzJceQ53"
   },
   "outputs": [],
   "source": [
    "# Definido uma função apara fazer o tratamento no dataset de interesse\n",
    "def trata_dados(df, porcent_nulos):\n",
    "\n",
    "    # Chamando a função retira_colunas_de_valores_unicos()\n",
    "    df = retira_colunas_de_valores_unicos(df)\n",
    "\n",
    "    # Chamando a função troca_bool_para_numero()\n",
    "    troca_bool_para_numero(df)\n",
    "\n",
    "    # Chamando a função troca_64_para_32()\n",
    "    df = reduz_memoria(df)\n",
    "\n",
    "    # Chamando a função retira_colunas_com_muito_nulos()\n",
    "    df = retira_colunas_com_porcent_nulos(df, porcent_nulos)\n",
    "\n",
    "    # Retornando um DataFrame já tratado\n",
    "    return df"
   ]
  },
  {
   "cell_type": "code",
   "execution_count": 24,
   "metadata": {
    "colab": {
     "base_uri": "https://localhost:8080/",
     "height": 185
    },
    "colab_type": "code",
    "id": "ZDu7vIbDpSQH",
    "outputId": "724d8fc8-ce1c-4c48-94d4-00e1b7e9219d"
   },
   "outputs": [
    {
     "data": {
      "text/plain": [
       "fl_matriz         bool\n",
       "fl_me             bool\n",
       "fl_sa             bool\n",
       "fl_epp            bool\n",
       "fl_mei            bool\n",
       "fl_ltda           bool\n",
       "fl_st_especial    bool\n",
       "fl_email          bool\n",
       "fl_telefone       bool\n",
       "dtype: object"
      ]
     },
     "execution_count": 24,
     "metadata": {},
     "output_type": "execute_result"
    }
   ],
   "source": [
    "# Mostrando as colunas com valores do tipo \"boolean\" antes do tratamento\n",
    "market.dtypes[market.dtypes == 'bool']"
   ]
  },
  {
   "cell_type": "code",
   "execution_count": 25,
   "metadata": {
    "colab": {
     "base_uri": "https://localhost:8080/",
     "height": 50
    },
    "colab_type": "code",
    "id": "Tekoh7zjlRcm",
    "outputId": "36f5c368-7aa7-4800-d380-99659ecefbfb"
   },
   "outputs": [
    {
     "data": {
      "text/plain": [
       "qt_filiais    int64\n",
       "dtype: object"
      ]
     },
     "execution_count": 25,
     "metadata": {},
     "output_type": "execute_result"
    }
   ],
   "source": [
    "# Mostrando as colunas com valores do tipo \"int64\" antes do tratamento\n",
    "market.dtypes[market.dtypes=='int64']"
   ]
  },
  {
   "cell_type": "code",
   "execution_count": 26,
   "metadata": {
    "colab": {
     "base_uri": "https://localhost:8080/",
     "height": 218
    },
    "colab_type": "code",
    "id": "dohEx4HveQ57",
    "outputId": "633c7040-45e1-427c-d2b2-0dc7de8b44d0"
   },
   "outputs": [
    {
     "data": {
      "text/plain": [
       "idade_empresa_anos           float64\n",
       "vl_total_tancagem            float64\n",
       "vl_total_veiculos_antt       float64\n",
       "vl_total_veiculos_leves      float64\n",
       "vl_total_veiculos_pesados    float64\n",
       "                              ...   \n",
       "qt_funcionarios_12meses      float64\n",
       "qt_funcionarios_24meses      float64\n",
       "tx_crescimento_12meses       float64\n",
       "tx_crescimento_24meses       float64\n",
       "tx_rotatividade              float64\n",
       "Length: 144, dtype: object"
      ]
     },
     "execution_count": 26,
     "metadata": {},
     "output_type": "execute_result"
    }
   ],
   "source": [
    "# Mostrando as colunas com valores do tipo \"float64\" antes do tratamento\n",
    "market.dtypes[market.dtypes=='float64']"
   ]
  },
  {
   "cell_type": "code",
   "execution_count": 27,
   "metadata": {
    "colab": {
     "base_uri": "https://localhost:8080/",
     "height": 34
    },
    "colab_type": "code",
    "id": "-Kn_2SGylRaG",
    "outputId": "74621861-1a59-4f49-b8b6-31871cb9c03b"
   },
   "outputs": [
    {
     "data": {
      "text/plain": [
       "131"
      ]
     },
     "execution_count": 27,
     "metadata": {},
     "output_type": "execute_result"
    }
   ],
   "source": [
    "# Mostrando quantas colunas têm a porcentagem estipulada de valores nulos (ou mais) antes do tratamento\n",
    "len(market.isna().sum()[market.isna().sum() >= porcent_nulos * len(market)])"
   ]
  },
  {
   "cell_type": "code",
   "execution_count": 28,
   "metadata": {
    "colab": {
     "base_uri": "https://localhost:8080/",
     "height": 34
    },
    "colab_type": "code",
    "id": "I8v9USqBeQ55",
    "outputId": "ff096a1b-0283-40f5-a99d-2bf59f80acb6"
   },
   "outputs": [
    {
     "data": {
      "text/plain": [
       "(462298, 181)"
      ]
     },
     "execution_count": 28,
     "metadata": {},
     "output_type": "execute_result"
    }
   ],
   "source": [
    "# Mostrando novamente o tamanho do dataset \"market\" antes do tratamento\n",
    "market.shape"
   ]
  },
  {
   "cell_type": "code",
   "execution_count": 29,
   "metadata": {
    "colab": {},
    "colab_type": "code",
    "id": "Qi2x_IJWlRXj"
   },
   "outputs": [
    {
     "name": "stdout",
     "output_type": "stream",
     "text": [
      "Wall time: 2min 1s\n"
     ]
    }
   ],
   "source": [
    "%%time\n",
    "# Chamando a função para fazer todo o tratamento do dataset de interesse\n",
    "#   e armazenando o seu retorno na mesma variável\n",
    "market = trata_dados(market, porcent_nulos)"
   ]
  },
  {
   "cell_type": "code",
   "execution_count": 30,
   "metadata": {
    "colab": {
     "base_uri": "https://localhost:8080/",
     "height": 34
    },
    "colab_type": "code",
    "id": "wFvaAXlLlvh-",
    "outputId": "6b2cb6a5-87fa-4945-eaf2-cc2411adb82c"
   },
   "outputs": [
    {
     "data": {
      "text/plain": [
       "Series([], dtype: object)"
      ]
     },
     "execution_count": 30,
     "metadata": {},
     "output_type": "execute_result"
    }
   ],
   "source": [
    "# Mostrando as colunas com valores do tipo \"float64\" depois do tratamento\n",
    "market.dtypes[market.dtypes=='float64']"
   ]
  },
  {
   "cell_type": "code",
   "execution_count": 31,
   "metadata": {
    "colab": {
     "base_uri": "https://localhost:8080/",
     "height": 34
    },
    "colab_type": "code",
    "id": "LF7RM2wKlviQ",
    "outputId": "44832b6c-ab79-4ae1-9067-cb19a72ff714"
   },
   "outputs": [
    {
     "data": {
      "text/plain": [
       "Series([], dtype: object)"
      ]
     },
     "execution_count": 31,
     "metadata": {},
     "output_type": "execute_result"
    }
   ],
   "source": [
    "# Mostrando as colunas com valores do tipo \"int64\" depois do tratamento\n",
    "market.dtypes[market.dtypes=='int64']"
   ]
  },
  {
   "cell_type": "code",
   "execution_count": 32,
   "metadata": {
    "colab": {
     "base_uri": "https://localhost:8080/",
     "height": 34
    },
    "colab_type": "code",
    "id": "q-1aWgE_lviY",
    "outputId": "8e9b102e-2ae2-4e2a-975f-91038e383101"
   },
   "outputs": [
    {
     "data": {
      "text/plain": [
       "0"
      ]
     },
     "execution_count": 32,
     "metadata": {},
     "output_type": "execute_result"
    }
   ],
   "source": [
    "# Mostrando quantas colunas têm a porcentagem estipulada de valores nulos (ou mais) depois do tratamento\n",
    "len(market.isna().sum()[market.isna().sum() >= porcent_nulos * len(market)])"
   ]
  },
  {
   "cell_type": "code",
   "execution_count": 33,
   "metadata": {
    "colab": {
     "base_uri": "https://localhost:8080/",
     "height": 34
    },
    "colab_type": "code",
    "id": "GgGy46RAlRV3",
    "outputId": "d20d6083-0a78-4cfe-8f46-7b411539dc42"
   },
   "outputs": [
    {
     "data": {
      "text/plain": [
       "(462298, 49)"
      ]
     },
     "execution_count": 33,
     "metadata": {},
     "output_type": "execute_result"
    }
   ],
   "source": [
    "# Mostrando novamente o tamanho do dataset \"market\" depois do tratamento\n",
    "market.shape"
   ]
  },
  {
   "cell_type": "code",
   "execution_count": 34,
   "metadata": {
    "colab": {},
    "colab_type": "code",
    "id": "4zjSR_jUAEd7"
   },
   "outputs": [],
   "source": [
    "portifolio1.to_csv('portfolio1_parte_2.csv', index=False)\n",
    "portifolio2.to_csv('portfolio2_parte_2.csv', index=False)\n",
    "portifolio3.to_csv('portfolio3_parte_2.csv', index=False)\n",
    "market.to_csv('market_parte_2.csv', index=False)"
   ]
  },
  {
   "cell_type": "code",
   "execution_count": null,
   "metadata": {},
   "outputs": [],
   "source": []
  }
 ],
 "metadata": {
  "colab": {
   "collapsed_sections": [],
   "name": "Projeto_Final_AceleraDev_Data_Science.ipynb",
   "provenance": []
  },
  "kernelspec": {
   "display_name": "Python 3",
   "language": "python",
   "name": "python3"
  },
  "language_info": {
   "codemirror_mode": {
    "name": "ipython",
    "version": 3
   },
   "file_extension": ".py",
   "mimetype": "text/x-python",
   "name": "python",
   "nbconvert_exporter": "python",
   "pygments_lexer": "ipython3",
   "version": "3.8.3"
  }
 },
 "nbformat": 4,
 "nbformat_minor": 1
}
